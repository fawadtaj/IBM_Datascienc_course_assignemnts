{
  "metadata": {
    "kernelspec": {
      "name": "python",
      "display_name": "Python (Pyodide)",
      "language": "python"
    },
    "language_info": {
      "codemirror_mode": {
        "name": "python",
        "version": 3
      },
      "file_extension": ".py",
      "mimetype": "text/x-python",
      "name": "python",
      "nbconvert_exporter": "python",
      "pygments_lexer": "ipython3",
      "version": "3.8"
    }
  },
  "nbformat_minor": 5,
  "nbformat": 4,
  "cells": [
    {
      "id": "42733016-6659-4a07-9458-ea4f4d45c9a4",
      "cell_type": "markdown",
      "source": "# Data Science Tools and Ecosystem #",
      "metadata": {}
    },
    {
      "id": "b7dfdc40-b92b-4025-ab1a-3aab6d4d3434",
      "cell_type": "markdown",
      "source": "In this notebook, Data Science Tools and Ecosystem are summarized.",
      "metadata": {}
    },
    {
      "id": "2ecea516-2bf9-4e85-94b8-8237bd3fc46a",
      "cell_type": "markdown",
      "source": "**Objectives:**\n- list of languages used in Datascience\n- List of Datascience tools\n- Learning markdown",
      "metadata": {}
    },
    {
      "id": "42eb01dd-2d9d-4740-a39c-c3fd0e8e20a5",
      "cell_type": "markdown",
      "source": "Some of the popular languages that Data Scientists use are:\n1. R\n2. Python\n3. SQL",
      "metadata": {}
    },
    {
      "id": "4050ff5b-a8f2-4bb4-8404-951b98c69b34",
      "cell_type": "markdown",
      "source": "|Data Science Tools|\n|-|\n|Jupyter|\n|RStudio|\n|Apache Zeppelin|",
      "metadata": {}
    },
    {
      "id": "36544cd3-625e-46d0-90d8-f5710725ebc1",
      "cell_type": "markdown",
      "source": "### Below are a few examples of evaluating arithmetic expressions in Python\n",
      "metadata": {}
    },
    {
      "id": "93095c7a-0dcf-4a97-95e2-3db3afb7fcab",
      "cell_type": "code",
      "source": "#This a simple arithmetic expression to mutiply then add integers\n(3*4)+5 \n",
      "metadata": {
        "trusted": true
      },
      "outputs": [
        {
          "execution_count": 1,
          "output_type": "execute_result",
          "data": {
            "text/plain": "17"
          },
          "metadata": {}
        }
      ],
      "execution_count": 1
    },
    {
      "id": "a71312b2-7f96-489b-b080-f137db540e56",
      "cell_type": "code",
      "source": "#This will convert 200 minutes to hours by diving by 60\n\nx=200/60\nprint(\"200 minutes is equal to \", x, \"Hours\")",
      "metadata": {
        "trusted": true
      },
      "outputs": [
        {
          "name": "stdout",
          "output_type": "stream",
          "text": "200 minutes is equal to  3.3333333333333335 Hours\n"
        }
      ],
      "execution_count": 2
    },
    {
      "id": "98b0d453-49e6-4a55-9839-be80ffd882b4",
      "cell_type": "markdown",
      "source": "## Author: ##\nFawad Taj",
      "metadata": {}
    },
    {
      "id": "6a44ec47-c56a-4187-bc82-e86cd963b7ef",
      "cell_type": "code",
      "source": "",
      "metadata": {
        "trusted": true
      },
      "outputs": [],
      "execution_count": null
    }
  ]
}